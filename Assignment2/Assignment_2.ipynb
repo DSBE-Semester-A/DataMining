{
 "cells": [
  {
   "cell_type": "markdown",
   "metadata": {},
   "source": [
    "# Assignment 2 - Bank Marketing\n",
    "\n",
    "Link to the data: https://archive.ics.uci.edu/dataset/222/bank+marketing\n",
    "\n",
    "The data is related with direct marketing campaigns of a Portuguese banking institution. The marketing campaigns were based on phone calls. Often, more than one contact to the same client was required, in order to access if the product (bank term deposit) would be ('yes') or not ('no') subscribed. \n",
    "\n",
    "There are four datasets: \n",
    "1) bank.csv with 10% of the examples and 17 inputs, randomly selected from 3 (older version of this dataset with less inputs). \n",
    "2) bank-full.csv with all examples and 17 inputs, ordered by date (older version of this dataset with less inputs). \n",
    "3) bank-additional.csv with 10% of the examples (4119), randomly selected from 1), and 20 inputs.\n",
    "4) bank-additional-full.csv with all examples (41188) and 20 inputs, ordered by date (from May 2008 to November 2010), very close to the data analyzed in [Moro et al., 2014]\n",
    "The smallest datasets are provided to test more computationally demanding machine learning algorithms (e.g., SVM). \n",
    "\n",
    "The classification goal is to predict if the client will subscribe (yes/no) a term deposit (variable y) by this research question:\n",
    "\n",
    "'Which features of client demographics, marketing strategies, and external economic indicators most strongly influence the likelihood of subscribing to a bank term deposit?'\n"
   ]
  },
  {
   "cell_type": "code",
   "execution_count": 1,
   "metadata": {},
   "outputs": [],
   "source": [
    "# Import libraries\n",
    "import numpy as np\n",
    "import matplotlib.pyplot as plt\n",
    "import pandas as pd\n",
    "import sklearn\n",
    "import seaborn as sns\n",
    "import skfuzzy as fuzz\n",
    "from sklearn.cluster import DBSCAN\n",
    "from sklearn.metrics import silhouette_score"
   ]
  },
  {
   "cell_type": "code",
   "execution_count": 2,
   "metadata": {},
   "outputs": [
    {
     "data": {
      "text/html": [
       "<div>\n",
       "<style scoped>\n",
       "    .dataframe tbody tr th:only-of-type {\n",
       "        vertical-align: middle;\n",
       "    }\n",
       "\n",
       "    .dataframe tbody tr th {\n",
       "        vertical-align: top;\n",
       "    }\n",
       "\n",
       "    .dataframe thead th {\n",
       "        text-align: right;\n",
       "    }\n",
       "</style>\n",
       "<table border=\"1\" class=\"dataframe\">\n",
       "  <thead>\n",
       "    <tr style=\"text-align: right;\">\n",
       "      <th></th>\n",
       "      <th>age</th>\n",
       "      <th>job</th>\n",
       "      <th>marital</th>\n",
       "      <th>education</th>\n",
       "      <th>default</th>\n",
       "      <th>balance</th>\n",
       "      <th>housing</th>\n",
       "      <th>loan</th>\n",
       "      <th>contact</th>\n",
       "      <th>day</th>\n",
       "      <th>month</th>\n",
       "      <th>duration</th>\n",
       "      <th>campaign</th>\n",
       "      <th>pdays</th>\n",
       "      <th>previous</th>\n",
       "      <th>poutcome</th>\n",
       "      <th>y</th>\n",
       "    </tr>\n",
       "  </thead>\n",
       "  <tbody>\n",
       "    <tr>\n",
       "      <th>0</th>\n",
       "      <td>30</td>\n",
       "      <td>unemployed</td>\n",
       "      <td>married</td>\n",
       "      <td>primary</td>\n",
       "      <td>no</td>\n",
       "      <td>1787</td>\n",
       "      <td>no</td>\n",
       "      <td>no</td>\n",
       "      <td>cellular</td>\n",
       "      <td>19</td>\n",
       "      <td>oct</td>\n",
       "      <td>79</td>\n",
       "      <td>1</td>\n",
       "      <td>-1</td>\n",
       "      <td>0</td>\n",
       "      <td>unknown</td>\n",
       "      <td>no</td>\n",
       "    </tr>\n",
       "    <tr>\n",
       "      <th>1</th>\n",
       "      <td>33</td>\n",
       "      <td>services</td>\n",
       "      <td>married</td>\n",
       "      <td>secondary</td>\n",
       "      <td>no</td>\n",
       "      <td>4789</td>\n",
       "      <td>yes</td>\n",
       "      <td>yes</td>\n",
       "      <td>cellular</td>\n",
       "      <td>11</td>\n",
       "      <td>may</td>\n",
       "      <td>220</td>\n",
       "      <td>1</td>\n",
       "      <td>339</td>\n",
       "      <td>4</td>\n",
       "      <td>failure</td>\n",
       "      <td>no</td>\n",
       "    </tr>\n",
       "    <tr>\n",
       "      <th>2</th>\n",
       "      <td>35</td>\n",
       "      <td>management</td>\n",
       "      <td>single</td>\n",
       "      <td>tertiary</td>\n",
       "      <td>no</td>\n",
       "      <td>1350</td>\n",
       "      <td>yes</td>\n",
       "      <td>no</td>\n",
       "      <td>cellular</td>\n",
       "      <td>16</td>\n",
       "      <td>apr</td>\n",
       "      <td>185</td>\n",
       "      <td>1</td>\n",
       "      <td>330</td>\n",
       "      <td>1</td>\n",
       "      <td>failure</td>\n",
       "      <td>no</td>\n",
       "    </tr>\n",
       "    <tr>\n",
       "      <th>3</th>\n",
       "      <td>30</td>\n",
       "      <td>management</td>\n",
       "      <td>married</td>\n",
       "      <td>tertiary</td>\n",
       "      <td>no</td>\n",
       "      <td>1476</td>\n",
       "      <td>yes</td>\n",
       "      <td>yes</td>\n",
       "      <td>unknown</td>\n",
       "      <td>3</td>\n",
       "      <td>jun</td>\n",
       "      <td>199</td>\n",
       "      <td>4</td>\n",
       "      <td>-1</td>\n",
       "      <td>0</td>\n",
       "      <td>unknown</td>\n",
       "      <td>no</td>\n",
       "    </tr>\n",
       "    <tr>\n",
       "      <th>4</th>\n",
       "      <td>59</td>\n",
       "      <td>blue-collar</td>\n",
       "      <td>married</td>\n",
       "      <td>secondary</td>\n",
       "      <td>no</td>\n",
       "      <td>0</td>\n",
       "      <td>yes</td>\n",
       "      <td>no</td>\n",
       "      <td>unknown</td>\n",
       "      <td>5</td>\n",
       "      <td>may</td>\n",
       "      <td>226</td>\n",
       "      <td>1</td>\n",
       "      <td>-1</td>\n",
       "      <td>0</td>\n",
       "      <td>unknown</td>\n",
       "      <td>no</td>\n",
       "    </tr>\n",
       "  </tbody>\n",
       "</table>\n",
       "</div>"
      ],
      "text/plain": [
       "   age          job  marital  education default  balance housing loan  \\\n",
       "0   30   unemployed  married    primary      no     1787      no   no   \n",
       "1   33     services  married  secondary      no     4789     yes  yes   \n",
       "2   35   management   single   tertiary      no     1350     yes   no   \n",
       "3   30   management  married   tertiary      no     1476     yes  yes   \n",
       "4   59  blue-collar  married  secondary      no        0     yes   no   \n",
       "\n",
       "    contact  day month  duration  campaign  pdays  previous poutcome   y  \n",
       "0  cellular   19   oct        79         1     -1         0  unknown  no  \n",
       "1  cellular   11   may       220         1    339         4  failure  no  \n",
       "2  cellular   16   apr       185         1    330         1  failure  no  \n",
       "3   unknown    3   jun       199         4     -1         0  unknown  no  \n",
       "4   unknown    5   may       226         1     -1         0  unknown  no  "
      ]
     },
     "execution_count": 2,
     "metadata": {},
     "output_type": "execute_result"
    }
   ],
   "source": [
    "df_bank = pd.read_csv('Ass2Data\\\\bank\\\\bank.csv', delimiter=';')\n",
    "df_bank_full = pd.read_csv('Ass2Data\\\\bank\\\\bank-full.csv', delimiter=';')\n",
    "df_bank_additional = pd.read_csv('Ass2Data\\\\bank-additional\\\\bank-additional\\\\bank-additional.csv', delimiter=';')\n",
    "df_bank_additional_full = pd.read_csv('Ass2Data\\\\bank-additional\\\\bank-additional\\\\bank-additional-full.csv', delimiter=';')\n",
    "df_bank.head()"
   ]
  },
  {
   "cell_type": "markdown",
   "metadata": {},
   "source": [
    "Comparison between the 4 datasets\n",
    "- df_bank: 4521 rows, 17 columns\n",
    "- df_bank_full: 45211 rows, 17 columns\n",
    "\n",
    "df_bank and df_bank_full have the same columns\n",
    "\n",
    "- df_bank_additional: 4119 rows, 21 columns.\n",
    "- df_bank_additional_full: 41188 rows, 21 columns.\n",
    "\n",
    "Columns that are in the 'additional' datasets but not in the other 2: emp.var.rate, cons.price.idx, cons.conf.idx, euribor3m, nr.employed\n",
    "\n",
    "Our research question, as written in the report, is: **Which client demographics (age, job, marital status, etc.) have the most influence on whether or not a client subscribes to a term deposit?**\n",
    "\n",
    "Therefore, we will first filter out the columns that are not related to the client demographics. We will then perform exploratory data analysis to understand the data better. Since the 'additional' datasets do not contain demographic variables, we will take a subset of the regular bank_full dataset."
   ]
  },
  {
   "cell_type": "code",
   "execution_count": 3,
   "metadata": {},
   "outputs": [],
   "source": [
    "demographic_variables = ['age', 'job', 'marital', 'education', 'emp.var.rate', 'cons.price.idx', 'cons.conf.idx', 'euribor3m', 'nr.employed', 'y']\n",
    "df_demo = df_bank_additional_full[demographic_variables]"
   ]
  },
  {
   "cell_type": "markdown",
   "metadata": {},
   "source": [
    "Demographic variables: \\\n",
    "`age` (numeric) \\\n",
    "`job` : type of job (categorical: \"admin.\",\"blue-collar\",\"entrepreneur\",\"housemaid\",\"management\",\"retired\",\"self-employed\",\"services\",\"student\",\"technician\",\"unemployed\",\"unknown\") \\\n",
    "`marital` : marital status (categorical: \"divorced\",\"married\",\"single\",\"unknown\"; note: \"divorced\" means divorced or widowed) \\\n",
    "`education` (categorical: \"basic.4y\",\"basic.6y\",\"basic.9y\",\"high.school\",\"illiterate\",\"professional.course\",\"university.degree\",\"unknown\")\n",
    "\n",
    "Social and economic context variables: \\\n",
    "`emp.var.rate`: employment variation rate - quarterly indicator (numeric) \\\n",
    "`cons.price.idx`: consumer price index - monthly indicator (numeric)     \n",
    "`cons.conf.idx`: consumer confidence index - monthly indicator (numeric)\n",
    "`euribor3m`: euribor 3 month rate - daily indicator (numeric) \\\n",
    "`nr.employed`: number of employees - quarterly indicator (numeric)   "
   ]
  },
  {
   "cell_type": "markdown",
   "metadata": {},
   "source": [
    "# Advanced Exploratory Data Analysis \n",
    "Apply techniques from clustering and association rule mining domains.\n",
    "- Data Cleaning: Outlier detection, summarizing dataset, descriptive stats, visualizations. Distribution of key variables\n",
    "- AEDA: Scaling, normalization, one hot encoding, pair plots, correlation heatmaps\n",
    "- Univariate and multivariate\n",
    "- 2 clustering algorithms and evaluate them\n",
    "- 2D plots, 3D plots\n",
    "- association rules mining, evaluate them"
   ]
  },
  {
   "cell_type": "markdown",
   "metadata": {},
   "source": [
    "## Data cleaning - iris\n",
    "*[TODO] SCHRIJF INTRO DATA CLEANING*\n",
    "### Difference between dataframes"
   ]
  },
  {
   "cell_type": "code",
   "execution_count": 4,
   "metadata": {},
   "outputs": [
    {
     "name": "stdout",
     "output_type": "stream",
     "text": [
      "{'euribor3m', 'cons.conf.idx', 'emp.var.rate', 'day_of_week', 'cons.price.idx', 'nr.employed'}\n"
     ]
    }
   ],
   "source": [
    "# Define difference in columns\n",
    "columns_diff = set(df_bank_additional_full.columns) - set(df_bank_full.columns)\n",
    "print(columns_diff)"
   ]
  },
  {
   "cell_type": "markdown",
   "metadata": {},
   "source": [
    "Conclusion:\n",
    "\n",
    "`df_bank_additional_full` contains the day of the week, and has the social and economic context attributes.\n",
    "\n",
    "These attributes represent:\n",
    "\n",
    "`emp.var.rate`: employment variation rate - quarterly indicator (numeric) \\\n",
    "`cons.price.idx`: consumer price index - monthly indicator (numeric)     \n",
    "`cons.conf.idx`: consumer confidence index - monthly indicator (numeric)\n",
    "`euribor3m`: euribor 3 month rate - daily indicator (numeric) \\\n",
    "`nr.employed`: number of employees - quarterly indicator (numeric)"
   ]
  },
  {
   "cell_type": "markdown",
   "metadata": {},
   "source": [
    "### Null values"
   ]
  },
  {
   "cell_type": "markdown",
   "metadata": {},
   "source": [
    "Next, we will check for potential null values in our dataset. As mentioned in the data description: \" _There are several missing values in some categorical attributes, all coded with the \"unknown\" label. These missing values can be treated as a possible class label or using deletion or imputation techniques._ \"\n"
   ]
  },
  {
   "cell_type": "code",
   "execution_count": 5,
   "metadata": {},
   "outputs": [
    {
     "name": "stderr",
     "output_type": "stream",
     "text": [
      "C:\\Users\\20201222\\AppData\\Local\\Temp\\ipykernel_30488\\2746681656.py:2: SettingWithCopyWarning: \n",
      "A value is trying to be set on a copy of a slice from a DataFrame\n",
      "\n",
      "See the caveats in the documentation: https://pandas.pydata.org/pandas-docs/stable/user_guide/indexing.html#returning-a-view-versus-a-copy\n",
      "  df_demo.replace('unknown', np.nan, inplace=True);\n"
     ]
    },
    {
     "data": {
      "text/plain": [
       "age                  0\n",
       "job                330\n",
       "marital             80\n",
       "education         1731\n",
       "emp.var.rate         0\n",
       "cons.price.idx       0\n",
       "cons.conf.idx        0\n",
       "euribor3m            0\n",
       "nr.employed          0\n",
       "y                    0\n",
       "dtype: int64"
      ]
     },
     "execution_count": 5,
     "metadata": {},
     "output_type": "execute_result"
    }
   ],
   "source": [
    "#Check for values encoded with the 'unknown' label\n",
    "df_demo.replace('unknown', np.nan, inplace=True);\n",
    "df_demo.isnull().sum()"
   ]
  },
  {
   "cell_type": "markdown",
   "metadata": {},
   "source": [
    "Now, we are going to examine the data to see if the rows that contain missing values (NaNs) have a higher tendency to have \"yes\" or \"no\" in a specific column."
   ]
  },
  {
   "cell_type": "code",
   "execution_count": 6,
   "metadata": {},
   "outputs": [
    {
     "data": {
      "text/html": [
       "<div>\n",
       "<style scoped>\n",
       "    .dataframe tbody tr th:only-of-type {\n",
       "        vertical-align: middle;\n",
       "    }\n",
       "\n",
       "    .dataframe tbody tr th {\n",
       "        vertical-align: top;\n",
       "    }\n",
       "\n",
       "    .dataframe thead th {\n",
       "        text-align: right;\n",
       "    }\n",
       "</style>\n",
       "<table border=\"1\" class=\"dataframe\">\n",
       "  <thead>\n",
       "    <tr style=\"text-align: right;\">\n",
       "      <th></th>\n",
       "      <th>y</th>\n",
       "      <th>job_nan</th>\n",
       "      <th>marital_nan</th>\n",
       "      <th>education_nan</th>\n",
       "      <th>y_count</th>\n",
       "    </tr>\n",
       "  </thead>\n",
       "  <tbody>\n",
       "    <tr>\n",
       "      <th>0</th>\n",
       "      <td>no</td>\n",
       "      <td>293</td>\n",
       "      <td>68</td>\n",
       "      <td>1480</td>\n",
       "      <td>36548</td>\n",
       "    </tr>\n",
       "    <tr>\n",
       "      <th>1</th>\n",
       "      <td>yes</td>\n",
       "      <td>37</td>\n",
       "      <td>12</td>\n",
       "      <td>251</td>\n",
       "      <td>4640</td>\n",
       "    </tr>\n",
       "  </tbody>\n",
       "</table>\n",
       "</div>"
      ],
      "text/plain": [
       "     y  job_nan  marital_nan  education_nan  y_count\n",
       "0   no      293           68           1480    36548\n",
       "1  yes       37           12            251     4640"
      ]
     },
     "execution_count": 6,
     "metadata": {},
     "output_type": "execute_result"
    }
   ],
   "source": [
    "# Count the number of NaN values in each column for y = yes and y = no\n",
    "nan_counts = df_demo[df_demo[['job', 'marital', 'education']].isna().any(axis=1)].groupby('y').agg(\n",
    "    job_nan=('job', lambda x: x.isna().sum()),\n",
    "    marital_nan=('marital', lambda x: x.isna().sum()),\n",
    "    education_nan=('education', lambda x: x.isna().sum()),\n",
    ").reset_index()\n",
    "\n",
    "# Add the total counts of y values\n",
    "y_counts = df_demo['y'].value_counts().reset_index()\n",
    "y_counts.columns = ['y', 'y_count']\n",
    "\n",
    "# Merge the NaN counts with the total counts\n",
    "nan_counts = nan_counts.merge(y_counts, on='y')\n",
    "\n",
    "# Display the table\n",
    "nan_counts"
   ]
  },
  {
   "cell_type": "markdown",
   "metadata": {},
   "source": [
    "The missing values have a higher tendency to have a \"no\" value for y. However, the \"yes/no\" ratio is not that different from the original ratio of the y values.\n",
    "\n",
    "The total amount rows with 'unknown' values for either job or education come down to about 5% of the total data. Since this is a small percentage, and the \"yes/no\" ratio is not dissimilar from the original y value counts, we have decided to drop these rows."
   ]
  },
  {
   "cell_type": "code",
   "execution_count": 7,
   "metadata": {},
   "outputs": [
    {
     "name": "stdout",
     "output_type": "stream",
     "text": [
      "Deleted rows:  1997\n"
     ]
    },
    {
     "name": "stderr",
     "output_type": "stream",
     "text": [
      "C:\\Users\\20201222\\AppData\\Local\\Temp\\ipykernel_30488\\1969627028.py:3: SettingWithCopyWarning: \n",
      "A value is trying to be set on a copy of a slice from a DataFrame\n",
      "\n",
      "See the caveats in the documentation: https://pandas.pydata.org/pandas-docs/stable/user_guide/indexing.html#returning-a-view-versus-a-copy\n",
      "  df_demo.dropna(inplace=True);\n"
     ]
    },
    {
     "data": {
      "text/plain": [
       "age               0\n",
       "job               0\n",
       "marital           0\n",
       "education         0\n",
       "emp.var.rate      0\n",
       "cons.price.idx    0\n",
       "cons.conf.idx     0\n",
       "euribor3m         0\n",
       "nr.employed       0\n",
       "y                 0\n",
       "dtype: int64"
      ]
     },
     "execution_count": 7,
     "metadata": {},
     "output_type": "execute_result"
    }
   ],
   "source": [
    "#Drop rows with missing values\n",
    "pre = df_demo.shape[0]\n",
    "df_demo.dropna(inplace=True);\n",
    "post = df_demo.shape[0]\n",
    "\n",
    "print('Deleted rows: ', pre - post)\n",
    "df_demo.isnull().sum()"
   ]
  },
  {
   "cell_type": "markdown",
   "metadata": {},
   "source": [
    "### Define numerical and categorical columns"
   ]
  },
  {
   "cell_type": "code",
   "execution_count": 8,
   "metadata": {},
   "outputs": [
    {
     "name": "stdout",
     "output_type": "stream",
     "text": [
      "Numerical columns: ['age', 'emp.var.rate', 'cons.price.idx', 'cons.conf.idx', 'euribor3m', 'nr.employed']\n",
      "Categorical columns: ['job', 'marital', 'education', 'y']\n"
     ]
    }
   ],
   "source": [
    "# Extract numerical column names\n",
    "numerical_columns = df_demo.select_dtypes(include=['number']).columns.tolist()\n",
    "\n",
    "# Extract categorical column names\n",
    "categorical_columns = df_demo.select_dtypes(include=['object']).columns.tolist()\n",
    "\n",
    "print(\"Numerical columns:\", numerical_columns)\n",
    "print(\"Categorical columns:\", categorical_columns)\n",
    "\n",
    "categorical_columns.remove('y') #Remove the target variable"
   ]
  },
  {
   "cell_type": "markdown",
   "metadata": {},
   "source": [
    "### Data distribution and outliers"
   ]
  },
  {
   "cell_type": "code",
   "execution_count": 9,
   "metadata": {},
   "outputs": [
    {
     "data": {
      "text/html": [
       "<div>\n",
       "<style scoped>\n",
       "    .dataframe tbody tr th:only-of-type {\n",
       "        vertical-align: middle;\n",
       "    }\n",
       "\n",
       "    .dataframe tbody tr th {\n",
       "        vertical-align: top;\n",
       "    }\n",
       "\n",
       "    .dataframe thead th {\n",
       "        text-align: right;\n",
       "    }\n",
       "</style>\n",
       "<table border=\"1\" class=\"dataframe\">\n",
       "  <thead>\n",
       "    <tr style=\"text-align: right;\">\n",
       "      <th></th>\n",
       "      <th>age</th>\n",
       "      <th>emp.var.rate</th>\n",
       "      <th>cons.price.idx</th>\n",
       "      <th>cons.conf.idx</th>\n",
       "      <th>euribor3m</th>\n",
       "      <th>nr.employed</th>\n",
       "    </tr>\n",
       "  </thead>\n",
       "  <tbody>\n",
       "    <tr>\n",
       "      <th>count</th>\n",
       "      <td>39191.000000</td>\n",
       "      <td>39191.000000</td>\n",
       "      <td>39191.00000</td>\n",
       "      <td>39191.000000</td>\n",
       "      <td>39191.000000</td>\n",
       "      <td>39191.000000</td>\n",
       "    </tr>\n",
       "    <tr>\n",
       "      <th>mean</th>\n",
       "      <td>39.858003</td>\n",
       "      <td>0.083238</td>\n",
       "      <td>93.57172</td>\n",
       "      <td>-40.537146</td>\n",
       "      <td>3.623633</td>\n",
       "      <td>5167.404340</td>\n",
       "    </tr>\n",
       "    <tr>\n",
       "      <th>std</th>\n",
       "      <td>10.288300</td>\n",
       "      <td>1.566502</td>\n",
       "      <td>0.57705</td>\n",
       "      <td>4.621895</td>\n",
       "      <td>1.730493</td>\n",
       "      <td>71.787741</td>\n",
       "    </tr>\n",
       "    <tr>\n",
       "      <th>min</th>\n",
       "      <td>17.000000</td>\n",
       "      <td>-3.400000</td>\n",
       "      <td>92.20100</td>\n",
       "      <td>-50.800000</td>\n",
       "      <td>0.634000</td>\n",
       "      <td>4963.600000</td>\n",
       "    </tr>\n",
       "    <tr>\n",
       "      <th>25%</th>\n",
       "      <td>32.000000</td>\n",
       "      <td>-1.800000</td>\n",
       "      <td>93.07500</td>\n",
       "      <td>-42.700000</td>\n",
       "      <td>1.344000</td>\n",
       "      <td>5099.100000</td>\n",
       "    </tr>\n",
       "    <tr>\n",
       "      <th>50%</th>\n",
       "      <td>38.000000</td>\n",
       "      <td>1.100000</td>\n",
       "      <td>93.44400</td>\n",
       "      <td>-41.800000</td>\n",
       "      <td>4.857000</td>\n",
       "      <td>5191.000000</td>\n",
       "    </tr>\n",
       "    <tr>\n",
       "      <th>75%</th>\n",
       "      <td>47.000000</td>\n",
       "      <td>1.400000</td>\n",
       "      <td>93.99400</td>\n",
       "      <td>-36.400000</td>\n",
       "      <td>4.961000</td>\n",
       "      <td>5228.100000</td>\n",
       "    </tr>\n",
       "    <tr>\n",
       "      <th>max</th>\n",
       "      <td>98.000000</td>\n",
       "      <td>1.400000</td>\n",
       "      <td>94.76700</td>\n",
       "      <td>-26.900000</td>\n",
       "      <td>5.045000</td>\n",
       "      <td>5228.100000</td>\n",
       "    </tr>\n",
       "  </tbody>\n",
       "</table>\n",
       "</div>"
      ],
      "text/plain": [
       "                age  emp.var.rate  cons.price.idx  cons.conf.idx  \\\n",
       "count  39191.000000  39191.000000     39191.00000   39191.000000   \n",
       "mean      39.858003      0.083238        93.57172     -40.537146   \n",
       "std       10.288300      1.566502         0.57705       4.621895   \n",
       "min       17.000000     -3.400000        92.20100     -50.800000   \n",
       "25%       32.000000     -1.800000        93.07500     -42.700000   \n",
       "50%       38.000000      1.100000        93.44400     -41.800000   \n",
       "75%       47.000000      1.400000        93.99400     -36.400000   \n",
       "max       98.000000      1.400000        94.76700     -26.900000   \n",
       "\n",
       "          euribor3m   nr.employed  \n",
       "count  39191.000000  39191.000000  \n",
       "mean       3.623633   5167.404340  \n",
       "std        1.730493     71.787741  \n",
       "min        0.634000   4963.600000  \n",
       "25%        1.344000   5099.100000  \n",
       "50%        4.857000   5191.000000  \n",
       "75%        4.961000   5228.100000  \n",
       "max        5.045000   5228.100000  "
      ]
     },
     "execution_count": 9,
     "metadata": {},
     "output_type": "execute_result"
    }
   ],
   "source": [
    "#show summary statistics for (numerical) data\n",
    "df_demo[numerical_columns].describe(include='all')"
   ]
  },
  {
   "cell_type": "markdown",
   "metadata": {},
   "source": [
    "*Conclusions summary statistics*\n",
    "\n",
    "- The average age is 39.858 years old. \n",
    "- The variation rate of employment is very low with an average of 0.083238. \n",
    "- The index of the consumption price is over 90, indicating that the inflation is stable. \n",
    "- The confidence of consumption is negative; the average value is -40.537146. This means people are not optimistic about the economy. \n",
    "- Euribor3m is 3.623633; it means the interest rate is not very high. \n",
    "- The number of employees is around 5167.404340. \n",
    " \n",
    "While the data is indicative of a relatively stable economic state of the country, on the other hand, the consumption confidence index is negative, which means the consumers do not feel optimistic about the future. This may become indicative of the fact that the economy is not growing as fast as it should."
   ]
  },
  {
   "cell_type": "code",
   "execution_count": 10,
   "metadata": {},
   "outputs": [
    {
     "data": {
      "image/png": "[encoded data removed]",
      "text/plain": [
       "<Figure size 1500x1000 with 6 Axes>"
      ]
     },
     "metadata": {},
     "output_type": "display_data"
    }
   ],
   "source": [
    "# create a figure with barplot subplots\n",
    "plt.figure(figsize=(15, 10))\n",
    "for i, feature in enumerate(numerical_columns, 1):\n",
    "    plt.subplot(len(numerical_columns)//3 + 1, 3, i)\n",
    "    sns.boxplot(y=df_demo[feature], showfliers=True)\n",
    "    plt.title(feature)\n",
    "plt.tight_layout()\n",
    "plt.show()\n"
   ]
  },
  {
   "cell_type": "markdown",
   "metadata": {},
   "source": [
    "It appears only `age` has some outliers. To even better undertsan dthe data, we make some histograms."
   ]
  },
  {
   "cell_type": "code",
   "execution_count": 11,
   "metadata": {},
   "outputs": [
    {
     "data": {
      "image/png": "[encoded data removed]",
      "text/plain": [
       "<Figure size 800x400 with 6 Axes>"
      ]
     },
     "metadata": {},
     "output_type": "display_data"
    }
   ],
   "source": [
    "# create a figure with histogram subplots\n",
    "plt.figure(figsize=(8, 4))\n",
    "for i, feature in enumerate(numerical_columns, 1):\n",
    "    plt.subplot(len(numerical_columns)//3 + 1, 3, i)\n",
    "    df_demo[feature].hist(bins=35)\n",
    "    plt.title(feature)\n",
    "plt.tight_layout()\n",
    "plt.show()"
   ]
  },
  {
   "cell_type": "markdown",
   "metadata": {},
   "source": [
    "*Conclusions data distributions*\n",
    "\n",
    "*[TODO] CONCLUSIONS NALEZEN*\n",
    "\n",
    "- Age: Most of the customers are in their 30s and 40s, but some reach as high as 90 years old. The distribution is slightly right skewed.\n",
    "- emp.var.rate: The employment variation rate is centred around 0, with a slight negative bias and a smaller negative range than positive. This might indicate that there is a period of low growth in employment with some upswings. \n",
    "- cons.price.idx: Consumer price index is changes within a narrow band around 93. It reflects very low level of inflation. \n",
    "- cons.conf.idx: The consumer confidence index slightly stands on the negative side, as the majority of the values are around -40 with a small range, having some outliers below -30. \n",
    "- euribor3m: The Euribor 3-month interest rate has been steady at about 4.5%, with a small range-a sign of the financial market's relative stability. \n",
    "- nr.employed: The range of employees is relatively the same, around 5150, with a slight increase."
   ]
  },
  {
   "cell_type": "markdown",
   "metadata": {},
   "source": [
    "## Feature engineering - iris\n",
    "\n",
    "*[TODO] SCHRIJF INTRODUCTIE FEATURE ENGINEERING*\n",
    "\n",
    "### Normalize numerical columns"
   ]
  },
  {
   "cell_type": "markdown",
   "metadata": {},
   "source": [
    "Since the numerical clumns are not highly skewed, we decieded to not normalize them."
   ]
  },
  {
   "cell_type": "markdown",
   "metadata": {},
   "source": [
    "### Label encoding of categorical features"
   ]
  },
  {
   "cell_type": "markdown",
   "metadata": {},
   "source": [
    "The categorical variables all contains string values. These are hard to process for clustering or modeling algorithms. Therefore, they should be encoded.\n",
    "\n",
    "Considering one-hot encoding would result in a large amount of extra columns, we decided to use label encoding."
   ]
  },
  {
   "cell_type": "code",
   "execution_count": 12,
   "metadata": {},
   "outputs": [
    {
     "name": "stdout",
     "output_type": "stream",
     "text": [
      "{'admin.': 0, 'blue-collar': 1, 'entrepreneur': 2, 'housemaid': 3, 'management': 4, 'retired': 5, 'self-employed': 6, 'services': 7, 'student': 8, 'technician': 9, 'unemployed': 10, 'divorced': 0, 'married': 1, 'single': 2, 'basic.4y': 0, 'basic.6y': 1, 'basic.9y': 2, 'high.school': 3, 'illiterate': 4, 'professional.course': 5, 'university.degree': 6}\n"
     ]
    },
    {
     "name": "stderr",
     "output_type": "stream",
     "text": [
      "C:\\Users\\20201222\\AppData\\Local\\Temp\\ipykernel_30488\\3881851478.py:11: SettingWithCopyWarning: \n",
      "A value is trying to be set on a copy of a slice from a DataFrame.\n",
      "Try using .loc[row_indexer,col_indexer] = value instead\n",
      "\n",
      "See the caveats in the documentation: https://pandas.pydata.org/pandas-docs/stable/user_guide/indexing.html#returning-a-view-versus-a-copy\n",
      "  df_demo_encoded[column] = ids\n",
      "C:\\Users\\20201222\\AppData\\Local\\Temp\\ipykernel_30488\\3881851478.py:11: SettingWithCopyWarning: \n",
      "A value is trying to be set on a copy of a slice from a DataFrame.\n",
      "Try using .loc[row_indexer,col_indexer] = value instead\n",
      "\n",
      "See the caveats in the documentation: https://pandas.pydata.org/pandas-docs/stable/user_guide/indexing.html#returning-a-view-versus-a-copy\n",
      "  df_demo_encoded[column] = ids\n",
      "C:\\Users\\20201222\\AppData\\Local\\Temp\\ipykernel_30488\\3881851478.py:11: SettingWithCopyWarning: \n",
      "A value is trying to be set on a copy of a slice from a DataFrame.\n",
      "Try using .loc[row_indexer,col_indexer] = value instead\n",
      "\n",
      "See the caveats in the documentation: https://pandas.pydata.org/pandas-docs/stable/user_guide/indexing.html#returning-a-view-versus-a-copy\n",
      "  df_demo_encoded[column] = ids\n",
      "C:\\Users\\20201222\\AppData\\Local\\Temp\\ipykernel_30488\\3881851478.py:16: SettingWithCopyWarning: \n",
      "A value is trying to be set on a copy of a slice from a DataFrame.\n",
      "Try using .loc[row_indexer,col_indexer] = value instead\n",
      "\n",
      "See the caveats in the documentation: https://pandas.pydata.org/pandas-docs/stable/user_guide/indexing.html#returning-a-view-versus-a-copy\n",
      "  df_demo_encoded['y'] = df_demo_encoded['y'].map({'yes': 1, 'no': 0})\n"
     ]
    }
   ],
   "source": [
    "from sklearn.preprocessing import LabelEncoder\n",
    "\n",
    "df_demo_encoded = df_demo #Copy dataset for encoding\n",
    "\n",
    "# Apply label encoding to categorical columns\n",
    "label_mappings = {}\n",
    "\n",
    "for column in categorical_columns:\n",
    "    le = LabelEncoder()\n",
    "    ids = le.fit_transform(df_demo_encoded[column])\n",
    "    df_demo_encoded[column] = ids\n",
    "    mapping = dict(zip(le.classes_, range(len(le.classes_))))\n",
    "    label_mappings.update(mapping)\n",
    "\n",
    "#Encode the target variable\n",
    "df_demo_encoded['y'] = df_demo_encoded['y'].map({'yes': 1, 'no': 0})\n",
    "print(label_mappings)"
   ]
  },
  {
   "cell_type": "code",
   "execution_count": 13,
   "metadata": {},
   "outputs": [
    {
     "data": {
      "image/png": "[encoded data removed]",
      "text/plain": [
       "<Figure size 2000x1500 with 2 Axes>"
      ]
     },
     "metadata": {},
     "output_type": "display_data"
    }
   ],
   "source": [
    "# Calculate the correlation matrix\n",
    "correlation_matrix = df_demo_encoded.corr()\n",
    "\n",
    "# Plot the heatmap\n",
    "plt.figure(figsize=(20, 15))\n",
    "sns.heatmap(correlation_matrix, annot=True, fmt=\".2f\", cmap='coolwarm')\n",
    "plt.title('Correlation Matrix of df_demo_encoded')\n",
    "plt.show()"
   ]
  },
  {
   "cell_type": "markdown",
   "metadata": {},
   "source": [
    "*[TODO] Uitleg en conclusie schrijven over correlation matrix*"
   ]
  },
  {
   "cell_type": "code",
   "execution_count": 14,
   "metadata": {},
   "outputs": [
    {
     "name": "stdout",
     "output_type": "stream",
     "text": [
      "                       y\n",
      "age             0.030557\n",
      "job             0.020840\n",
      "marital         0.041972\n",
      "education       0.054412\n",
      "emp.var.rate   -0.293264\n",
      "cons.price.idx -0.133833\n",
      "cons.conf.idx   0.051365\n",
      "euribor3m      -0.302094\n",
      "nr.employed    -0.349526\n",
      "y               1.000000\n"
     ]
    }
   ],
   "source": [
    "# Calculate the correlation matrix for the target variable 'y' and other features\n",
    "y_corr = df_demo_encoded.corr()[['y']]\n",
    "\n",
    "print(y_corr)"
   ]
  },
  {
   "cell_type": "markdown",
   "metadata": {},
   "source": [
    "We are interested in which variables correlate with the target variable the most, therefore, we select all correlations with `y` and sort the absolute balues from high to low. We sort on absolute values because of the fact a negative effect is also an effect we would like to know."
   ]
  },
  {
   "cell_type": "code",
   "execution_count": 15,
   "metadata": {},
   "outputs": [
    {
     "data": {
      "image/png": "[encoded data removed]",
      "text/plain": [
       "<Figure size 400x800 with 2 Axes>"
      ]
     },
     "metadata": {},
     "output_type": "display_data"
    }
   ],
   "source": [
    "# Filter the correlation matrix for y_no and y_yes where the absolute value of correlation is higher than 0.1\n",
    "#filtered_corr_matrix = y_corr[(y_corr['y_yes'].abs() > 0.1)]\n",
    "filtered_corr_matrix = y_corr\n",
    "\n",
    "#Sort the values by the absolute value of correlation for visualization purposes\n",
    "filtered_corr_matrix = filtered_corr_matrix.reindex(filtered_corr_matrix['y'].abs().sort_values(ascending=False).index)\n",
    "\n",
    "# Plot the heatmap for the filtered correlation matrix\n",
    "plt.figure(figsize=(4, 8))\n",
    "sns.heatmap(filtered_corr_matrix, annot=True, cmap='coolwarm', center=0)\n",
    "plt.title('Correlation Matrix for target variable')\n",
    "plt.show()"
   ]
  },
  {
   "cell_type": "markdown",
   "metadata": {},
   "source": [
    "*[TODO] CONCLUSIE SCHRIJVEN OVER CORRELATION MATRIX*"
   ]
  },
  {
   "cell_type": "code",
   "execution_count": null,
   "metadata": {},
   "outputs": [],
   "source": [
    "# Create pair plots\n",
    "# sns.pairplot(df_demo_encoded[key_features])\n",
    "# plt.show()"
   ]
  },
  {
   "cell_type": "markdown",
   "metadata": {},
   "source": [
    "Ik denk dat deze pair plot overbodig is, geeft ons vgm niet veel extra informatie\n",
    "- Onno"
   ]
  },
  {
   "cell_type": "markdown",
   "metadata": {},
   "source": [
    "### Sampling considerations\n",
    "There are way more y_no than y_yes. We have decided NOT to resample this, and instead use the imbalanced dataset. We will evaluate the models based on the AUC, which is a better metric for imbalanced datasets. This will also be explained later in the notebook."
   ]
  },
  {
   "cell_type": "code",
   "execution_count": null,
   "metadata": {},
   "outputs": [],
   "source": [
    "# Separate majority and minority classes\n",
    "df_majority = df_demo_encoded[df_demo_encoded['y'] == 0]\n",
    "df_minority = df_demo_encoded[df_demo_encoded['y'] == 1]\n",
    "print(\"Succesfull calls (Subscriptions to term deposit, y=1):\", df_minority.shape[0])\n",
    "print(\"Unsuccesfull calls (no subscription, y=0):\", df_majority.shape[0])"
   ]
  },
  {
   "cell_type": "markdown",
   "metadata": {},
   "source": [
    "## Clustering\n",
    "\n",
    "In this section, we will be applying two clustering algorithms to the data: DBSCAN and Fuzzy C-Means Clustering. We chose to use DBSCAN because we saw from the EDA that we have a lot of outliers in our attributes. The decision for Fuzzy C-Means Clustering was made as we expect high overlap between the clusters, which this clustering method works well for."
   ]
  },
  {
   "cell_type": "code",
   "execution_count": null,
   "metadata": {},
   "outputs": [],
   "source": [
    "df_demo_encoded_no_y = df_demo_encoded.drop(columns=['y'])\n",
    "df_demo_encoded_no_y.head()"
   ]
  },
  {
   "cell_type": "markdown",
   "metadata": {},
   "source": [
    "### Cluster algorithm 1 - DBSCAN"
   ]
  },
  {
   "cell_type": "code",
   "execution_count": null,
   "metadata": {},
   "outputs": [],
   "source": [
    "from sklearn.neighbors import NearestNeighbors\n",
    "from matplotlib import pyplot as plt\n",
    " \n",
    "neighbors = NearestNeighbors(n_neighbors=20)\n",
    "neighbors_fit = neighbors.fit(df_demo_encoded_no_y)\n",
    "distances, indices = neighbors_fit.kneighbors(df_demo_encoded_no_y)\n",
    "distances = np.sort(distances, axis=0)[:,1]\n"
   ]
  },
  {
   "cell_type": "code",
   "execution_count": null,
   "metadata": {},
   "outputs": [],
   "source": [
    "plt.xlim(30000, 39300)\n",
    "plt.axhline(y=3, color='r', linestyle='--')\n",
    "plt.plot(distances)"
   ]
  },
  {
   "cell_type": "code",
   "execution_count": null,
   "metadata": {},
   "outputs": [],
   "source": [
    "\n",
    "#------------- AURELIA NOG AANPASSEN OM NIET HARDCODED TE ZIJN -----------------\n",
    "# # Define a range of eps and min_samples values to test\n",
    "# eps_values = np.arange(5, 10, 0.2)  # Adjust the range and step as necessary\n",
    "# min_samples_values = range(9, 19)\n",
    "\n",
    "# # Dictionary to store the results\n",
    "# best_score = -1\n",
    "# best_params = {}\n",
    "\n",
    "# for eps in eps_values:\n",
    "#     for min_samples in min_samples_values:\n",
    "#         # Apply DBSCAN\n",
    "#         dbscan = DBSCAN(eps=eps, min_samples=min_samples)\n",
    "#         labels = dbscan.fit_predict(df_demo_encoded_no_y)\n",
    "        \n",
    "#         # Only compute silhouette score if there is more than 1 cluster\n",
    "#         if len(set(labels)) > 1:\n",
    "#             score = silhouette_score(df_demo_encoded_no_y, labels)\n",
    "#             print(f\"eps: {eps}, min_samples: {min_samples}, silhouette score: {score}\")\n",
    "            \n",
    "#             # Check if this is the best score\n",
    "#             if score > best_score:\n",
    "#                 best_score = score\n",
    "#                 best_params = {'eps': eps, 'min_samples': min_samples}\n",
    "\n",
    "# print(f\"Best params: {best_params}, Best silhouette score: {best_score}\")"
   ]
  },
  {
   "cell_type": "code",
   "execution_count": null,
   "metadata": {},
   "outputs": [],
   "source": [
    "# Run DBSCAN clustering\n",
    "dbscan = DBSCAN(eps=8.2, min_samples=9)  # Values based on previous cell\n",
    "df_demo_encoded['dbscan_cluster'] = dbscan.fit_predict(df_demo_encoded_no_y)"
   ]
  },
  {
   "cell_type": "code",
   "execution_count": null,
   "metadata": {},
   "outputs": [],
   "source": [
    "sum(df_demo_encoded['dbscan_cluster'].unique())"
   ]
  },
  {
   "cell_type": "code",
   "execution_count": null,
   "metadata": {},
   "outputs": [],
   "source": [
    "df_demo_encoded.columns"
   ]
  },
  {
   "cell_type": "code",
   "execution_count": null,
   "metadata": {},
   "outputs": [],
   "source": [
    "# Plot the pairplot with hue based on the 'y' labels\n",
    "sns.pairplot(df_demo_encoded, vars=df_demo_encoded.columns, \n",
    "             hue='y')  # 1 is yes, 0 is no\n",
    "plt.suptitle(\"Pairplot Colored by 'y' Labels\", y=1.02)\n",
    "plt.show()"
   ]
  },
  {
   "cell_type": "code",
   "execution_count": null,
   "metadata": {},
   "outputs": [],
   "source": [
    "# Plot the pairplot with hue based on the DBSCAN clusters\n",
    "sns.pairplot(df_demo_encoded, vars=df_demo_encoded_no_y.columns, \n",
    "             hue='dbscan_cluster', palette='tab10')\n",
    "plt.suptitle(\"Pairplot Colored by DBSCAN Clusters\", y=1.02)\n",
    "plt.show()"
   ]
  },
  {
   "cell_type": "markdown",
   "metadata": {},
   "source": [
    "### Cluster algorithm 2  - Fuzzy C-Means Clustering"
   ]
  },
  {
   "cell_type": "code",
   "execution_count": null,
   "metadata": {},
   "outputs": [],
   "source": [
    "# Defining the cluster_range and accuracies for plotting process\n",
    "cluster_range = range(1,11)\n",
    "accuracies = []\n",
    "all_clusters = []\n",
    "data = df_demo_encoded_no_y\n",
    "\n",
    "# Perform Fuzzy C-Means clustering for each number of clusters\n",
    "for n_clusters in cluster_range:\n",
    "    # Perform fuzzy C-means clustering\n",
    "    cntr, u, u0, d, jm, p, fpc = fuzz.cluster.cmeans(data.T, n_clusters, 2, error=0.005, maxiter=1000)\n",
    "    \n",
    "    # Assign clusters based on the highest membership\n",
    "    clusters = np.argmax(u, axis=0)\n",
    "    all_clusters.append(clusters)\n",
    "\n",
    "print(all_clusters)"
   ]
  },
  {
   "cell_type": "code",
   "execution_count": null,
   "metadata": {},
   "outputs": [],
   "source": [
    "from sklearn.metrics import confusion_matrix\n",
    "\n",
    "true_labels = df_demo_encoded['y']\n",
    "\n",
    "# Calculate accuracies for each clustering result\n",
    "for clusters in all_clusters:\n",
    "    # Using sklearn's confusion_matrix to generate the contingency matrix\n",
    "    contingency_matrix = confusion_matrix(true_labels, clusters)\n",
    "    \n",
    "    # For each cluster, find the maximum true label count\n",
    "    correct_predictions = sum(np.max(contingency_matrix, axis=0))\n",
    "\n",
    "    # Calculate accuracy\n",
    "    accuracy = correct_predictions / len(true_labels)\n",
    "    accuracies.append(accuracy)\n",
    "\n",
    "\n",
    "# Perform fuzzy c-means clustering with 4 clusters\n",
    "n_clusters_4 = 4\n",
    "cntr, u, u0, d, jm, p, fpc = fuzz.cluster.cmeans(data.T, n_clusters_4, 2, error=0.005, maxiter=1000)\n",
    "clusters4 = np.argmax(u, axis=0)\n",
    "\n",
    "# Add the cluster assignment to the dataframe\n",
    "df_demo_encoded['fuzzy_cluster'] = clusters4\n",
    "\n",
    "# Plotting number of clusters vs. accuracy\n",
    "plt.figure(figsize=(8, 6))\n",
    "plt.plot(cluster_range, accuracies, marker='o', color='b', label=\"Accuracy\")\n",
    "plt.title(\"Number of Clusters vs. Accuracy\")\n",
    "plt.xlabel(\"Number of Clusters\")\n",
    "plt.ylabel(\"Accuracy\")\n",
    "plt.xlim(0, 11)  # Setting x-axis limit\n",
    "plt.ylim(0, 1.1)  # Setting y-axis limit\n",
    "plt.xticks(range(0, 12))  # Setting x-ticks every 1 increment\n",
    "plt.yticks(np.arange(0, 1.1, 0.1))  # Setting y-ticks every 0.1 increment\n",
    "plt.grid()\n",
    "plt.legend()\n",
    "\n",
    "# Plot the clusters using pairplot\n",
    "sns.pairplot(df_demo_encoded, vars=df_demo_encoded_no_y.columns, hue='fuzzy_cluster', palette='viridis')\n",
    "plt.show()\n",
    "\n",
    "# Print final clustering accuracy\n",
    "print(\"Clustering Accuracies:\", accuracies)"
   ]
  },
  {
   "cell_type": "code",
   "execution_count": null,
   "metadata": {},
   "outputs": [],
   "source": [
    "# return cluster centers cntr \n",
    "print(f\"Clusters centers: {cntr}\")\n",
    "# return membership matrix u\n",
    "print(f\"Memership matrix: {u}\")"
   ]
  },
  {
   "cell_type": "markdown",
   "metadata": {},
   "source": [
    "## Association rules"
   ]
  },
  {
   "cell_type": "code",
   "execution_count": null,
   "metadata": {},
   "outputs": [],
   "source": [
    "df_ass_rules = df_demo_encoded\n",
    "df_ass_rules = df_ass_rules.drop(['duration', 'pdays'], axis=1)\n",
    "df_ass_rules"
   ]
  },
  {
   "cell_type": "markdown",
   "metadata": {},
   "source": [
    "Implementation of Apriori"
   ]
  },
  {
   "cell_type": "code",
   "execution_count": null,
   "metadata": {},
   "outputs": [],
   "source": [
    "df_ass_rules"
   ]
  },
  {
   "cell_type": "code",
   "execution_count": null,
   "metadata": {},
   "outputs": [],
   "source": [
    "#I don't know why, but although this results in the exact same df it won't run without it\n",
    "def encode(item_freq):\n",
    "    res = 0\n",
    "    if item_freq > 0:\n",
    "        res = 1\n",
    "    return res\n",
    "    \n",
    "basket_input = df_ass_rules.applymap(encode)"
   ]
  },
  {
   "cell_type": "code",
   "execution_count": null,
   "metadata": {},
   "outputs": [],
   "source": [
    "from mlxtend.frequent_patterns import apriori, association_rules\n",
    "\n",
    "# Write your code for Association rules with 10% support and 20% confidence\n",
    "frequent_items = apriori(basket_input, min_support=0.1, use_colnames=True)\n",
    "frequent_items"
   ]
  },
  {
   "cell_type": "code",
   "execution_count": null,
   "metadata": {},
   "outputs": [],
   "source": [
    "# with 20% Confidence\n",
    "rules = association_rules(frequent_items, metric='confidence', min_threshold=0.20)\n",
    "rules"
   ]
  },
  {
   "cell_type": "code",
   "execution_count": null,
   "metadata": {},
   "outputs": [],
   "source": [
    "# Order the most frequent item combinations in the entire dataset, by sorting the dataset by support, confidence, and lift\n",
    "rules_sorted = rules.sort_values([\"support\", \"confidence\",\"lift\"],axis = 0, ascending = False)\n",
    "rules_sorted"
   ]
  },
  {
   "cell_type": "markdown",
   "metadata": {},
   "source": [
    "We find that all the rules have a positive lift, meaning that they're good influential rules. The rules are sorted based importance.\n",
    "\n",
    "The antecedents explain the consequents, as we are interested in explaining the y_yes variable, which indicates whether someone has received a loan or not, we will only be looking at those."
   ]
  },
  {
   "cell_type": "code",
   "execution_count": null,
   "metadata": {},
   "outputs": [],
   "source": [
    "# Done manually because of frozenset\n",
    "rules_sorted = rules_sorted.drop([5, 0, 1, 3, 7, 8, 11])\n",
    "rules_sorted"
   ]
  },
  {
   "cell_type": "markdown",
   "metadata": {},
   "source": [
    "We find that that:\"\n",
    "1. given someone has cellular contact, there's a 39.55% chance they receive a loan.\n",
    "2. Given someoen has previously received a loan, there's a 17.26% chance they receive a loan.\n",
    "3. Given that they both have cellular contact, and received a loan previously, there's a 15.49% chance they receive a loan.\n",
    "4. 5. TODO: debate whether these are necessary."
   ]
  },
  {
   "cell_type": "markdown",
   "metadata": {},
   "source": [
    "Visalising the confidence"
   ]
  },
  {
   "cell_type": "code",
   "execution_count": null,
   "metadata": {},
   "outputs": [],
   "source": [
    "rules"
   ]
  },
  {
   "cell_type": "code",
   "execution_count": null,
   "metadata": {},
   "outputs": [],
   "source": [
    "# Create a bar plot for confidence values\n",
    "plt.figure(figsize=(10, 6))\n",
    "sns.barplot(x='confidence', y='antecedents',  data=rules)\n",
    "\n",
    "# Add title and labels\n",
    "plt.title('Confidence of Association Rules', fontsize=14)\n",
    "plt.xlabel('Confidence', fontsize=12)\n",
    "plt.ylabel('Antecedents', fontsize=12)\n",
    "plt.legend(title='Consequents', bbox_to_anchor=(1.05, 1), loc='upper left')\n",
    "\n",
    "# Show plot\n",
    "plt.tight_layout()\n",
    "plt.show()"
   ]
  },
  {
   "cell_type": "code",
   "execution_count": null,
   "metadata": {},
   "outputs": [],
   "source": [
    "#### Visualization of obtained rules\n",
    "plt.figure(figsize=(15,6))\n",
    "sns.barplot(x=\"support\",y=\"confidence\",data=rules, palette='viridis')\n",
    "plt.title(\"support vs confidence\")\n",
    "plt.show()\n",
    "\n",
    "plt.figure(figsize=(15,6))\n",
    "plt.scatter(rules['support'],rules['confidence'])\n",
    "plt.xlabel('support')\n",
    "plt.ylabel('confidence') \n",
    "plt.show()"
   ]
  },
  {
   "cell_type": "markdown",
   "metadata": {},
   "source": [
    "# Predictive Modelling\n"
   ]
  },
  {
   "cell_type": "markdown",
   "metadata": {},
   "source": [
    "Now that we have performed EDA, feature engineering, clustering and association rule mining, we will move on to the predictive modelling part of the assignment. We will be using the following models:\n",
    "- Support Vector Machine (SVM)\n",
    "- eXtreme Gradient Boosting (XGBoost)\n",
    "- Random Forest\n",
    "\n",
    "These models were chosen because they are known to perform well on imbalanced datasets, which we have. We will be using the AUC as our evaluation metric, as it is a better metric for imbalanced datasets than accuracy. After evaluating all models the best performing will be chosen and finetuned for optimal performance.\n",
    "\n",
    "First, we split the data into train and test data. We will use 80% of the data for training and 20% for testing. We will then train the models on the training data and evaluate them on the test data."
   ]
  },
  {
   "cell_type": "code",
   "execution_count": null,
   "metadata": {},
   "outputs": [],
   "source": [
    "X_train"
   ]
  },
  {
   "cell_type": "code",
   "execution_count": null,
   "metadata": {},
   "outputs": [],
   "source": [
    "# Split data into train and test data\n",
    "from sklearn.model_selection import train_test_split\n",
    "\n",
    "X = df_demo_encoded.drop(['y'], axis=1)\n",
    "y = df_demo_encoded['y']\n",
    "\n",
    "X_train, X_test, y_train, y_test = train_test_split(X, y, test_size=0.2, random_state=2, stratify=y)"
   ]
  },
  {
   "cell_type": "markdown",
   "metadata": {},
   "source": [
    "SVM (Kyrie)"
   ]
  },
  {
   "cell_type": "code",
   "execution_count": null,
   "metadata": {},
   "outputs": [],
   "source": []
  },
  {
   "cell_type": "markdown",
   "metadata": {},
   "source": [
    "### XGBoost (Onno)"
   ]
  },
  {
   "cell_type": "markdown",
   "metadata": {},
   "source": [
    "**XGBoost (Extreme Gradient Boosting)** is a powerful and efficient machine learning algorithm based on the gradient boosting framework. It builds a strong model by combining many weak learners, in our case decision trees, in an iterative way to minimize prediction errors. With each iteration, XGBoost focuses on improving the accuracy by adjusting for errors made in previous rounds, which leads to high performance and accuracy."
   ]
  },
  {
   "cell_type": "markdown",
   "metadata": {},
   "source": [
    "First, the optimal hyperparameters (optimizing for AUC) will be determined using Grid search Cross Validation. Then an XGBoost model will be trained on these parameters. Finally, in the evaluation section, the model will be evaluated on the test set and compared to the other two models in this notebook."
   ]
  },
  {
   "cell_type": "code",
   "execution_count": null,
   "metadata": {},
   "outputs": [],
   "source": [
    "#Import necessary libraries for XGBoost\n",
    "from xgboost import XGBClassifier\n",
    "\n",
    "#Import Gridsearch for hyperparameter tuning\n",
    "from sklearn.model_selection import GridSearchCV\n",
    "\n",
    "#Initialize the XGBClassifier\n",
    "xgb = XGBClassifier()\n",
    "\n",
    "#Initialize the parameter grid\n",
    "param_grid = {\n",
    "    'max_depth': [3, 4, 5],\n",
    "    'learning_rate': [0.1, 0.01, 0.001],\n",
    "    'n_estimators': [100, 200, 300],\n",
    "    'gamma': [0, 0.1, 0.2],\n",
    "}\n",
    "\n",
    "#Perform grid search with 5-fold cross-validation (~30 seconds)\n",
    "grid_search = GridSearchCV(estimator=xgb, param_grid=param_grid, cv=5, n_jobs=-1, scoring='roc_auc_ovr_weighted')\n",
    "grid_search.fit(X_train, y_train)\n",
    "\n",
    "#Print the best parameters\n",
    "print(grid_search.best_params_)"
   ]
  },
  {
   "cell_type": "markdown",
   "metadata": {},
   "source": [
    "After finding the best possible parameters for the XGBoost model, we will train it on the training set."
   ]
  },
  {
   "cell_type": "code",
   "execution_count": null,
   "metadata": {},
   "outputs": [],
   "source": [
    "#Initialize the XGBClassifier with the best parameters\n",
    "xgb_best = XGBClassifier(**grid_search.best_params_)\n",
    "xgb_best.fit(X_train, y_train);"
   ]
  },
  {
   "cell_type": "code",
   "execution_count": null,
   "metadata": {},
   "outputs": [],
   "source": [
    "len(xgb_best.feature_importances_)"
   ]
  },
  {
   "cell_type": "code",
   "execution_count": null,
   "metadata": {},
   "outputs": [],
   "source": [
    "#visualize feature importance\n",
    "plt.figure(figsize=(4, 4));\n",
    "plt.title('Feature Importance: XGBoost');\n",
    "sns.barplot(x=xgb_best.feature_importances_, y=key_features.drop('y'));\n",
    "plt.xlabel('Feature Importance');\n",
    "plt.ylabel('Feature');\n",
    "plt.show()"
   ]
  },
  {
   "cell_type": "markdown",
   "metadata": {},
   "source": [
    "*[TODO] CONCLUSIE OVER FEATURE IMPORTANCES*"
   ]
  },
  {
   "cell_type": "markdown",
   "metadata": {},
   "source": [
    "### Random Forest (Mila)\n",
    "\n",
    "**Decision Trees**, the building blocks of **Random Forests**, make decisions based on conditional splits at each node. These splits are determined by comparing feature values to a threshold and partitioning the data accordingly to minimize a cost function, often related to the impurity of the nodes (e.g., Gini impurity or entropy in classification problems). **Random Forests enhance the robustness of Decision Trees by creating an ensemble**. Each tree in the forest is trained on a random subset of the data (bootstrapped samples), and at each split, a random subset of features is considered. Compared to XGBoost, the Random Forest does not prune trees and can overfit if trees are fully grown. To avoid this, we wil first plot several different tree in terms of their dept. Besides that Random Forests struggle with imbalanced datasets (often biased towards majority class). In our case this is y=0. As our dataset is highly imbalanced, we will use the `stratify` parameter in the train test split function."
   ]
  },
  {
   "cell_type": "markdown",
   "metadata": {},
   "source": [
    "In order to assess the performance of the `RandomForestClassifier` across tress with varying depths, we will write a function `evaluate_RF`. The arguments of this function are given and are `X`, `y`, a list called `max_depths` and a variable called `scoring` along with an integer parameter `n_estimators`. For the `scoring` parameter, `balanced_accuracy` and `roc_auc_ovr_weighted` will be used as they deal with binary classification problems with imbalanced datasets.\n",
    "\n",
    "From this plot we can estimate what our parameters in the `RandomForestClassifier` approximately will be, after which we will hyper tune it with `GridSearchCV`."
   ]
  },
  {
   "cell_type": "code",
   "execution_count": null,
   "metadata": {},
   "outputs": [],
   "source": [
    "from sklearn.ensemble import RandomForestClassifier\n",
    "from sklearn.model_selection import cross_val_score, train_test_split\n",
    "from helper_functions import *\n",
    "from IPython import display\n",
    "\n",
    "RANDOM_SEED = 2\n",
    "\n",
    "## Helper Functions for Live Model Plotting\n",
    "\n",
    "def plot_live(X, y, evaluator, param_name, param_range, scale='log', ylim=(0,1), ylabel='score', marker = '.'):\n",
    "    \"\"\" Renders a plot that updates with every evaluation from evaluator.\n",
    "    Keyword arguments:\n",
    "    X -- the data for training and testing\n",
    "    y -- the correct labels\n",
    "    evaluator -- a function with signature (X, y, param_value) that returns a dictionary of scores.\n",
    "                 Examples: {\"train\": 0.9, \"test\": 0.95} or {\"model_1\": 0.9, \"model_2\": 0.7}\n",
    "    param_name -- the parameter that is being varied on the X axis. Can be a hyperparameter, sample size,...\n",
    "    param_range -- list of all possible values on the x-axis\n",
    "    scale -- defines which scale to plot the x-axis on, either 'log' (logarithmic) or 'linear'\n",
    "    ylim -- tuple with the lowest and highest y-value to plot (e.g. (0, 10))\n",
    "    ylabel -- the y-axis title\n",
    "    \"\"\"\n",
    "    # Plot interactively\n",
    "    plt.ion()\n",
    "    plt.ylabel(ylabel)\n",
    "    plt.xlabel(param_name)\n",
    "    \n",
    "    # Make the scale look nice\n",
    "    plt.xscale(scale)\n",
    "    plt.xlim(param_range[0],param_range[-1])\n",
    "    plt.ylim(ylim)\n",
    "        \n",
    "    # Start from empty plot, then fill it\n",
    "    series = {}\n",
    "    lines = {}\n",
    "    xvals = []\n",
    "    for i in param_range:\n",
    "        scores = evaluator(X, y, i) \n",
    "        if i == param_range[0]: # initialize series\n",
    "            for k in scores.keys():\n",
    "                lines[k], = plt.plot(xvals, [], marker = marker, label = k)\n",
    "                series[k] = []\n",
    "        xvals.append(i)\n",
    "        for k in scores.keys(): # append new data\n",
    "            series[k].append(scores[k])\n",
    "            lines[k].set_data(xvals, series[k])\n",
    "        # refresh plot\n",
    "        plt.legend(loc='best')\n",
    "        plt.margins(0.1)\n",
    "        display.display(plt.gcf())\n",
    "        display.clear_output(wait=True)\n",
    "\n",
    "def plot_validation(X, y, evaluator):\n",
    "    Xs, _, ys, _ = train_test_split(X, y, stratify=y, train_size=0.8, random_state=RANDOM_SEED)\n",
    "\n",
    "    plot_live(\n",
    "        Xs,\n",
    "        ys,\n",
    "        evaluator,\n",
    "        param_name='n_estimators',\n",
    "        param_range=range(1, 32, 5),\n",
    "        scale='linear'\n",
    "    )\n",
    "\n",
    "def evaluate_RF(X, y, n_estimators, max_depths, scoring):\n",
    "    res = {}\n",
    "\n",
    "    for md in max_depths:\n",
    "        forest = RandomForestClassifier(n_estimators, max_depth=md, random_state=RANDOM_SEED)\n",
    "        rf = cross_val_score(forest, X, y, cv=3, scoring=scoring)\n",
    "        res['rf_' + str(md)] = sum(rf)/len(rf)\n",
    "\n",
    "    return res\n",
    "\n",
    "def evaluate_Roc_accuracy(X, y, n_estimators):\n",
    "    return evaluate_RF(X, y, n_estimators, max_depths=[2, 8, 16, 24, 32, 64], scoring=\"roc_auc_ovr_weighted\")"
   ]
  },
  {
   "cell_type": "code",
   "execution_count": null,
   "metadata": {},
   "outputs": [],
   "source": [
    "plot_validation(X, y, evaluate_Roc_accuracy)"
   ]
  },
  {
   "cell_type": "markdown",
   "metadata": {},
   "source": [
    "From the plot, we evaluate the performance of a Random Forest model across different numbers of estimators (`n_estimators`, or the number of trees in the forest) and different maximum depths of trees. Here's what we can conclude from this analysis:\n",
    "\n",
    "### Observations\n",
    "\n",
    "1. **Score Stabilization with `n_estimators`**: It looks like the performance (score) stabilizes after a certain point in the number of estimators (around 10–15 estimators). Adding more trees beyond this point does not seem to significantly improve the score, suggesting that the model reaches its optimal performance with a relatively low number of trees.\n",
    "   \n",
    "2. **Impact of Maximum Depth**: The different lines in the plot represent various maximum depth values (rf_2, rf_8, rf_16, etc.). The maximum depth has a minor but visible impact on performance. Lower depth (e.g., `max_depth=2`) has slightly lower scores, while higher depths (e.g., `max_depth=16` or `max_depth=24`) have higher scores initially but don't show significant improvement at higher `n_estimators` values. This indicates that for this dataset, increasing depth improves performance only to a certain level before it plateaus.\n",
    "\n",
    "3. **Diminishing Returns**: Both increasing `n_estimators` and `max_depth` beyond certain values yield diminishing returns. After a certain depth (possibly around 16) and number of estimators (around 15), the performance remains steady.\n",
    "\n",
    "\n",
    "Based on the plot, a good grid search can focus on a smaller range of values rather than an extensive search, which would save computational time. We will test the following numbers for the parameters:\n",
    "\n",
    "- **`n_estimators`**: Test values from 5 to 50, in increments like `[5, 10, 15, 20]`. Since the performance stabilizes after around 15 trees, we don't need to go much higher.\n",
    "  \n",
    "- **`max_depth`**: We will use values in the range of `[8, 16, 24, 32]`. The model shows slight improvements as depth increases, but beyond 24 or 32, it’s likely that the additional depth won’t add much value.\n",
    "\n",
    "- **Other Parameters**: To further refine the model, you might also include:\n",
    "  - **`min_samples_split`**: `[2, 5, 10]` (controls the minimum number of samples required to split an internal node).\n",
    "  - **`min_samples_leaf`**: `[1, 2, 4]` (controls the minimum number of samples required to be at a leaf node).\n",
    "  - **`max_features`**: Try a few options, such as `\"sqrt\"`, `\"log2\"`, or a fixed number (like half or one-third of the number of features), to control the number of features considered at each split."
   ]
  },
  {
   "cell_type": "markdown",
   "metadata": {},
   "source": [
    "First, the optimal hyperparameters (optimizing for `n_estimators`, `criterion` and `max_depth`) will be determined using Grid Search Cross Validation. Then an Random Forest model will be trained on these parameters. "
   ]
  },
  {
   "cell_type": "code",
   "execution_count": null,
   "metadata": {},
   "outputs": [],
   "source": [
    "# Import necessary libraries for Random Forest\n",
    "from sklearn.ensemble import RandomForestClassifier\n",
    "from sklearn.model_selection import GridSearchCV\n",
    "\n",
    "param_rf = {\n",
    "    'n_estimators': np.linspace(5, 50, num=5, dtype=int),  # Number of trees in the forest\n",
    "    'criterion': ['gini', 'entropy'],  # Function to measure the quality of a split\n",
    "    'max_depth': [5,10,15,20],  # Maximum depth of the tree\n",
    "}\n",
    "\n",
    "rf = RandomForestClassifier()\n",
    "grid_searches = GridSearchCV(rf, param_rf, scoring = 'accuracy', cv=3, return_train_score=True, n_jobs = -1).fit(X,y)\n",
    "\n",
    "sorted(grid_searches.cv_results_.keys())\n",
    "\n",
    "cv_results = grid_searches.cv_results_\n",
    "\n",
    "results_df = pd.DataFrame({\n",
    "    'mean_fit_time': cv_results['mean_fit_time'],\n",
    "    'mean_score_time': cv_results['mean_score_time'],\n",
    "    'mean_test_score': cv_results['mean_test_score'],\n",
    "    'mean_train_score': cv_results['mean_train_score'],\n",
    "    'param_criterion': cv_results['param_criterion'],\n",
    "    'param_n_estimators': cv_results['param_n_estimators'],\n",
    "    'std_test_score': cv_results['std_test_score'],\n",
    "    'std_train_score': cv_results['std_train_score'],\n",
    "    'rank_test_score': cv_results['rank_test_score']\n",
    "})\n",
    "\n",
    "# Apply the highlighting\n",
    "results_df = results_df.sort_values(by = 'rank_test_score')\n",
    "\n",
    "results_df['param_n_estimators'] = pd.to_numeric(results_df['param_n_estimators'])"
   ]
  },
  {
   "cell_type": "code",
   "execution_count": null,
   "metadata": {},
   "outputs": [],
   "source": [
    "# Showing the top 5 best models\n",
    "results_df_highlight = results_df.style.apply(highlight_best_worst, subset=['mean_test_score'])\n",
    "results_df_highlight.data\n",
    "\n",
    "print(f\"Best parameters: {grid_searches.best_params_}\")"
   ]
  },
  {
   "cell_type": "markdown",
   "metadata": {},
   "source": [
    "From the dataframe we can conclude that the bet parameters are: The `criterion` used is entropy, `max_depth` of the trees is 5 and the number of trees is 5. This shows that the model needs few trees to make a good prediction.\n",
    "Let's fit the model and see what the important features are."
   ]
  },
  {
   "cell_type": "code",
   "execution_count": null,
   "metadata": {},
   "outputs": [],
   "source": [
    "# Initialize the Random Forest Classifier with the best parameters\n",
    "rf_best = RandomForestClassifier(**grid_searches.best_params_)\n",
    "X_train, X_test, y_train, y_test = train_test_split(X,y, stratify=y, random_state=1)\n",
    "# Find the best model\n",
    "rf_best.fit(X_train, y_train)"
   ]
  },
  {
   "cell_type": "code",
   "execution_count": null,
   "metadata": {},
   "outputs": [],
   "source": [
    "def plot_feature_importances(features, model):\n",
    "    n_features = len(features)\n",
    "    plt.figure(figsize=(5,10))\n",
    "    plt.barh(range(n_features), model.feature_importances_, align='center')\n",
    "    plt.yticks(range(n_features), features)\n",
    "    plt.xlabel(\"Feature importance\")\n",
    "    plt.ylabel(\"Feature\")\n",
    "    plt.ylim(-1, n_features)\n",
    "    \n",
    "df_plot = df_final.drop(['y'], axis=1)\n",
    "plt.rcParams.update({'font.size':8})\n",
    "plot_feature_importances(df_plot.columns, rf_best)"
   ]
  },
  {
   "cell_type": "markdown",
   "metadata": {},
   "source": [
    "After running the Random Forest with a GridSearch on the n_estimators and criterion, Let's have a look how the model performs compared to the other models in ROC-AUC, recall, precision etc.\n"
   ]
  },
  {
   "cell_type": "markdown",
   "metadata": {},
   "source": [
    "# Comparison between the 3 models"
   ]
  },
  {
   "cell_type": "markdown",
   "metadata": {},
   "source": [
    "In order to compare the performance of the three models, we will use the following metrics: accuracy, precision, recall, F1 score, and ROC AUC score. We will also plot the ROC curve for each model. In the end, the best model will be chosen based on the ROC AUC score as this most accurately represents the performance of the model."
   ]
  },
  {
   "cell_type": "code",
   "execution_count": null,
   "metadata": {},
   "outputs": [],
   "source": [
    "from sklearn.metrics import confusion_matrix, precision_score, recall_score, f1_score, roc_auc_score"
   ]
  },
  {
   "cell_type": "markdown",
   "metadata": {},
   "source": [
    "SVM performance metrics:"
   ]
  },
  {
   "cell_type": "code",
   "execution_count": null,
   "metadata": {},
   "outputs": [],
   "source": [
    "#Predict the target variable\n",
    "y_pred_svm = svm_best.predict(X_test)\n",
    "\n",
    "#Print evaluation measures\n",
    "print('Accuracy: ', accuracy_score(y_test, y_pred_svm))\n",
    "print('Precision: ', precision_score(y_test, y_pred_svm))\n",
    "print('Recall: ', recall_score(y_test, y_pred_svm))\n",
    "print('F1 Score: ', f1_score(y_test, y_pred_svm))\n",
    "print('ROC AUC Score: ', roc_auc_score(y_test, y_pred_svm))\n",
    "\n",
    "#Visualize confusion matrix\n",
    "plt.figure(figsize=(8, 6));\n",
    "plt.title('Confusion Matrix: XGBoost');\n",
    "\n",
    "sns.heatmap(confusion_matrix(y_test, y_pred_svm), annot=True, fmt='d', cmap=plt.cm.Oranges);\n",
    "plt.xlabel('Predicted');\n",
    "plt.ylabel('Actual');"
   ]
  },
  {
   "cell_type": "markdown",
   "metadata": {},
   "source": [
    "XGBoost performance metrics:"
   ]
  },
  {
   "cell_type": "code",
   "execution_count": null,
   "metadata": {},
   "outputs": [],
   "source": [
    "#Predict the target variable\n",
    "y_pred_xgb = xgb_best.predict(X_test)\n",
    "\n",
    "#Print evaluation measures\n",
    "print('Accuracy: ', accuracy_score(y_test, y_pred_xgb))\n",
    "print('Precision: ', precision_score(y_test, y_pred_xgb))\n",
    "print('Recall: ', recall_score(y_test, y_pred_xgb))\n",
    "print('F1 Score: ', f1_score(y_test, y_pred_xgb))\n",
    "print('ROC AUC Score: ', roc_auc_score(y_test, y_pred_xgb))\n",
    "\n",
    "#Visualize confusion matrix\n",
    "plt.figure(figsize=(8, 6));\n",
    "plt.title('Confusion Matrix: XGBoost');\n",
    "\n",
    "sns.heatmap(confusion_matrix(y_test, y_pred_xgb), annot=True, fmt='d', cmap=plt.cm.Oranges);\n",
    "plt.xlabel('Predicted');\n",
    "plt.ylabel('Actual');"
   ]
  },
  {
   "cell_type": "code",
   "execution_count": null,
   "metadata": {},
   "outputs": [],
   "source": [
    "#Plot ROC curve\n",
    "from sklearn.metrics import roc_curve\n",
    "\n",
    "#Calculate the probabilities\n",
    "y_pred_prob_xgb = xgb_best.predict_proba(X_test)[:, 1]\n",
    "fpr, tpr, thresholds = roc_curve(y_test, y_pred_prob_xgb)\n",
    "\n",
    "#Plot the ROC curve\n",
    "plt.figure(figsize=(8, 6));\n",
    "plt.plot(fpr, tpr, label='XGBoost');\n",
    "plt.plot([0, 1], [0, 1], 'k--');\n",
    "plt.xlabel('False Positive Rate');\n",
    "plt.ylabel('True Positive Rate');\n",
    "plt.title('ROC Curve: XGBoost');\n",
    "plt.legend();\n",
    "plt.show()"
   ]
  },
  {
   "cell_type": "markdown",
   "metadata": {},
   "source": [
    "Random Forest performance metrics:"
   ]
  },
  {
   "cell_type": "code",
   "execution_count": null,
   "metadata": {},
   "outputs": [],
   "source": [
    "# Predict the target variable\n",
    "y_pred_rf = rf_best.predict(X_test)\n",
    "\n",
    "# Print evaluation measures\n",
    "print('Accuracy:', np.mean(y_test == y_pred_rf))\n",
    "print('Precision:', precision_score(y_test, y_pred_rf))\n",
    "print('Recall:', recall_score(y_test, y_pred_rf))\n",
    "print('F1 Score:', f1_score(y_test, y_pred_rf))\n",
    "print('ROC AUC Score:', roc_auc_score(y_test, y_pred_rf))\n",
    "\n",
    "# Visualize confusion matrix\n",
    "sns.heatmap(confusion_matrix(y_test, y_pred_rf), annot=True, fmt='d', cmap=plt.cm.Oranges)\n",
    "plt.xlabel('Predicted')\n",
    "plt.ylabel('Actual')\n",
    "plt.show()\n"
   ]
  },
  {
   "cell_type": "code",
   "execution_count": null,
   "metadata": {},
   "outputs": [],
   "source": [
    "#Plot ROC curve\n",
    "from sklearn.metrics import roc_curve\n",
    "\n",
    "#Calculate the probabilities\n",
    "y_pred_prob_rf = rf_best.predict_proba(X_test)[:, 1]\n",
    "fpr, tpr, thresholds = roc_curve(y_test, y_pred_prob_rf)\n",
    "\n",
    "#Plot the ROC curve\n",
    "plt.figure(figsize=(8, 6));\n",
    "plt.plot(fpr, tpr, label='Random Forest');\n",
    "plt.plot([0, 1], [0, 1], 'k--');\n",
    "plt.xlabel('False Positive Rate');\n",
    "plt.ylabel('True Positive Rate');\n",
    "plt.title('ROC Curve: Random Forest');\n",
    "plt.legend();\n",
    "plt.show()"
   ]
  },
  {
   "cell_type": "markdown",
   "metadata": {},
   "source": [
    "In conclusion, when comparing performances of the three models, blablblalbalabla"
   ]
  },
  {
   "cell_type": "markdown",
   "metadata": {},
   "source": []
  }
 ],
 "metadata": {
  "kernelspec": {
   "display_name": "base",
   "language": "python",
   "name": "python3"
  },
  "language_info": {
   "codemirror_mode": {
    "name": "ipython",
    "version": 3
   },
   "file_extension": ".py",
   "mimetype": "text/x-python",
   "name": "python",
   "nbconvert_exporter": "python",
   "pygments_lexer": "ipython3",
   "version": "3.11.4"
  }
 },
 "nbformat": 4,
 "nbformat_minor": 2
}
